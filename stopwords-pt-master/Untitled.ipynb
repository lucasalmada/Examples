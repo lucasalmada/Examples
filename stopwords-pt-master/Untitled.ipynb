{
 "cells": [
  {
   "cell_type": "code",
   "execution_count": 2,
   "metadata": {},
   "outputs": [
    {
     "name": "stdout",
     "output_type": "stream",
     "text": [
      "bower stopwords-pt#*        not-cached https://github.com/stopwords-iso/stopwords-pt.git#*\n",
      "bower stopwords-pt#*           resolve https://github.com/stopwords-iso/stopwords-pt.git#*\n",
      "bower stopwords-pt#*          download https://github.com/stopwords-iso/stopwords-pt/archive/v0.3.0.tar.gz\n",
      "bower stopwords-pt#*           extract archive.tar.gz\n",
      "bower stopwords-pt#*          resolved https://github.com/stopwords-iso/stopwords-pt.git#0.3.0\n",
      "bower stopwords-pt#^0.3.0      install stopwords-pt#0.3.0\n",
      "\n",
      "stopwords-pt#0.3.0 bower_components\\stopwords-pt\n"
     ]
    }
   ],
   "source": [
    "!bower install stopwords-pt"
   ]
  },
  {
   "cell_type": "code",
   "execution_count": 4,
   "metadata": {},
   "outputs": [
    {
     "ename": "NameError",
     "evalue": "name 'require' is not defined",
     "output_type": "error",
     "traceback": [
      "\u001b[1;31m---------------------------------------------------------------------------\u001b[0m",
      "\u001b[1;31mNameError\u001b[0m                                 Traceback (most recent call last)",
      "\u001b[1;32m<ipython-input-4-6fe57282338c>\u001b[0m in \u001b[0;36m<module>\u001b[1;34m()\u001b[0m\n\u001b[1;32m----> 1\u001b[1;33m \u001b[0mstopwords\u001b[0m \u001b[1;33m=\u001b[0m \u001b[0mrequire\u001b[0m\u001b[1;33m(\u001b[0m\u001b[1;34m'stopwords-pt'\u001b[0m\u001b[1;33m)\u001b[0m\u001b[1;33m\u001b[0m\u001b[0m\n\u001b[0m",
      "\u001b[1;31mNameError\u001b[0m: name 'require' is not defined"
     ]
    }
   ],
   "source": [
    "stopwords = require('stopwords-pt')"
   ]
  },
  {
   "cell_type": "code",
   "execution_count": null,
   "metadata": {},
   "outputs": [],
   "source": []
  }
 ],
 "metadata": {
  "kernelspec": {
   "display_name": "Python 3",
   "language": "python",
   "name": "python3"
  },
  "language_info": {
   "codemirror_mode": {
    "name": "ipython",
    "version": 3
   },
   "file_extension": ".py",
   "mimetype": "text/x-python",
   "name": "python",
   "nbconvert_exporter": "python",
   "pygments_lexer": "ipython3",
   "version": "3.6.5"
  }
 },
 "nbformat": 4,
 "nbformat_minor": 2
}
